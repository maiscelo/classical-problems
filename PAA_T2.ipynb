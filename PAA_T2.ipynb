{
  "nbformat": 4,
  "nbformat_minor": 0,
  "metadata": {
    "colab": {
      "name": "PAA_Q1_T2.ipynb",
      "provenance": [],
      "collapsed_sections": [],
      "authorship_tag": "ABX9TyPU1JGCum+r/YF4RMUH3F1Q",
      "include_colab_link": true
    },
    "kernelspec": {
      "name": "python3",
      "display_name": "Python 3"
    },
    "language_info": {
      "name": "python"
    }
  },
  "cells": [
    {
      "cell_type": "markdown",
      "metadata": {
        "id": "view-in-github",
        "colab_type": "text"
      },
      "source": [
        "<a href=\"https://colab.research.google.com/github/maiscelo/classical-problems/blob/master/PAA_T2.ipynb\" target=\"_parent\"><img src=\"https://colab.research.google.com/assets/colab-badge.svg\" alt=\"Open In Colab\"/></a>"
      ]
    },
    {
      "cell_type": "code",
      "metadata": {
        "id": "d8yHoewBr5OV",
        "colab": {
          "base_uri": "https://localhost:8080/"
        },
        "outputId": "47cd57a5-efe1-401d-8a4b-c6dacde18255"
      },
      "source": [
        "import seaborn as sns\n",
        "import pandas as pd\n",
        "import pylab as plt\n",
        "import numpy as np\n",
        "import itertools\n",
        "import random\n",
        "import time\n",
        "\n",
        "inicio = time.time()\n",
        "\n",
        "#clica em arquivos\n",
        "#mover as instancias para dentro da pasta sample_data\n",
        "# Modificar arquivo SATx.txt ou NMx.txt para executar cada instância \n",
        "\n",
        "with open('/content/sample_data/SAT3.txt','r',errors='replace') as f:\n",
        "     linhas=f.readlines()\n",
        "X = linhas.pop()    #retira a ultima linha, vetor binário de entrada.\n",
        "X = X[:-1]          \n",
        "n_literal , n_conjuct = linhas.pop(0).split()\n",
        "n_literal = int(n_literal)\n",
        "n_conjuct = int(n_conjuct)\n",
        "n=len(linhas)\n",
        "\n",
        "#Gera uma expressão do tipo CNF, uma lista com a estrutura booleana ('literal',True)\n",
        "def _kcnf(n_literals, n_conjuncts, k=3):\n",
        "    result = []\n",
        "    for line in linhas:\n",
        "        conj = set()\n",
        "        h = line.split()\n",
        "        for u in h:\n",
        "            index = int(u)\n",
        "            if index > 0:\n",
        "                conj.add((\n",
        "                    str(index).rjust(3, '0'),\n",
        "                    bool(True),\n",
        "                          ))\n",
        "            if index < 0:\n",
        "                 index = index*(-1)\n",
        "                 conj.add((\n",
        "                    str(index).rjust(3, '0'),\n",
        "                    bool(False),\n",
        "                          ))\n",
        "            #print(conj) Verificar saida;\n",
        "        result.append(conj)\n",
        "    return result\n",
        "\n",
        "def resultado (ent_):\n",
        "    return [bool(disj.intersection(ent_)) for disj in ex].count(True)\n",
        "\n",
        "# Na busca local o vetor é inicalizado com valores randômicos.\n",
        "def busca_local(entrada):\n",
        "    entrada = list(entrada)\n",
        "    r ,t,s = random.randint(0, n_literal-1) ,random.randint(0, n_literal-1), random.randint(0, n_literal-1)\n",
        "    #print(r,t)\n",
        "    entrada[r]=(entrada[r][0],bool(entrada[r][1]-True))\n",
        "    entrada[t]=(entrada[t][0],bool(entrada[t][1]-True))\n",
        "    entrada[s]=(entrada[s][0],bool(entrada[s][1]-True))\n",
        "    entrada = set(entrada)\n",
        "    return (entrada)\n",
        "#Execução de cada uma instância\n",
        "ex = _kcnf(n_literal,n_conjuct)\n",
        "#b = SAT(ex)\n",
        "\n",
        "x = set(range(1,n_literal+1))\n",
        "tam=len(ex)\n",
        "tam = int(tam)\n",
        "\n",
        "def transforma(can):\n",
        "    string=[]\n",
        "    for trans in can:\n",
        "        string.append(str(trans).rjust(3, '0'))\n",
        "    return string\n",
        "\n",
        "def guloso(tam):\n",
        "   y=set()\n",
        "   for t in range(70):    #define o alfa\n",
        "       y.add(random.randrange(1, n_literal+1))\n",
        "   candidato=set()\n",
        "   candidato_=[]\n",
        "   for j in range(tam):\n",
        "     for h,i in ex[j]:\n",
        "          if i == True & (int(h) in y)==True:\n",
        "            candidato.add(int(h))\n",
        "            #print(h,i)\n",
        "   rest= x-candidato\n",
        "   print(rest)\n",
        "   verd = [True for i in range(len(candidato))]\n",
        "   falso = [random.choice([True, False]) for i in range(len(rest))]\n",
        "   candidato =  transforma(candidato)\n",
        "   rest =  transforma(rest)\n",
        "   a = set(zip(candidato,verd))\n",
        "   b = set(zip(rest,falso))\n",
        "   go=a.union(b)\n",
        "   return go\n",
        "\n",
        "def guloso3(tam):\n",
        "   y=set()\n",
        "   for t in range(50):    #define o alfa\n",
        "       y.add(random.randrange(1, n_literal+1))\n",
        "   candidato=set()\n",
        "   candidato_=[]\n",
        "   for j in range(tam):\n",
        "     for h,i in ex[j]:\n",
        "          if i == False & (int(h) in y)==True:\n",
        "            candidato.add(int(h))\n",
        "            #print(h,i)\n",
        "   rest= x-candidato\n",
        "   print(rest)\n",
        "   verd = [False for i in range(len(candidato))]\n",
        "   falso = [random.choice([True, False]) for i in range(len(rest))]\n",
        "   candidato =  transforma(candidato)\n",
        "   rest =  transforma(rest)\n",
        "   a = set(zip(candidato,verd))\n",
        "   b = set(zip(rest,falso))\n",
        "   go=a.union(b)\n",
        "   return go\n",
        "\n",
        "\n",
        "def guloso2(alfa):\n",
        "    x = set(range(1,101))\n",
        "    candidato_ = set()\n",
        "    vetor=[]\n",
        "    candidato=[]\n",
        "    for i in [1,2,3]:\n",
        "        for g in ex[0:50]: #define o alfa\n",
        "            #print(g)\n",
        "            minha_lista = list(g)\n",
        "            #Gera a lista com os valores booleanos\n",
        "            for i in minha_lista:\n",
        "                vetor.append(i[1])\n",
        "                candidato.append(i[0])\n",
        "                boolarr = np.array(vetor)\n",
        "                index = np.where(boolarr==True)\n",
        "       \n",
        "    #Verifica se na clausula existe literais verdadeiras\n",
        "                if  len(index) == i:\n",
        "                    index = index[0].tolist()\n",
        "                    for i in index:\n",
        "                          candidato_.add(int(candidato[i]))\n",
        "                  #Cria a lista de candidados pelo método menor ocorrencias de positivos\n",
        "    rest= x-candidato_\n",
        "    verd = [True for i in range(len(candidato))]\n",
        "    falso = [random.choice([True, False]) for i in range(len(rest))]\n",
        "    candidato =  transforma(candidato)\n",
        "    rest =  transforma(rest)\n",
        "    a = set(zip(candidato,verd))\n",
        "    b = set(zip(rest,falso))\n",
        "    go=a.union(b)\n",
        "    return go\n",
        "\n",
        "\n",
        "plotar=[]\n",
        "plotar_star=[]\n",
        "foi = guloso(tam)\n",
        "print(foi)\n",
        "S_star = resultado(foi)\n",
        "#print(S_star)\n",
        "plotar_star.append(S_star)\n",
        "plotar.append(S_star)\n",
        "\n",
        "#lista de 3 candidatos gulosos.\n",
        "for h in range(3):\n",
        "   if h==0:\n",
        "      foi = guloso(tam)\n",
        "      #S_star = resultado(foi)\n",
        "      #print(S_star)\n",
        "      #plotar_star.append(S_star)\n",
        "      plotar.append(S_star)\n",
        "   if h==1:\n",
        "      foi = guloso(tam)\n",
        "      #S_star = resultado(foi)\n",
        "      #print(S_star)\n",
        "      #plotar_star.append(S_star)\n",
        "      plotar.append(S_star)\n",
        "   if h==2:\n",
        "      foi = guloso(tam)\n",
        "      #S_star = resultado(foi)\n",
        "      #print(S_star)\n",
        "      #plotar_star.append(S_star)\n",
        "      plotar.append(S_star)\n",
        "   for i in range(10000):\n",
        "       local = busca_local(foi)\n",
        "       result = resultado(local)\n",
        "       #print(result)\n",
        "       plotar.append(result)\n",
        "       if result > S_star:\n",
        "          S_star = result\n",
        "          plotar_star.append(S_star)\n",
        "       #plotar.append(resultado)\n",
        "   \n",
        "fim = time.time()\n",
        "print(\"Tempo de execução\",fim - inicio)"
      ],
      "execution_count": 209,
      "outputs": [
        {
          "output_type": "stream",
          "text": [
            "{3, 4, 8, 9, 15, 16, 19, 20, 22, 26, 27, 28, 30, 31, 33, 35, 37, 38, 39, 40, 41, 44, 46, 47, 51, 53, 55, 56, 57, 58, 59, 60, 64, 67, 70, 74, 75, 77, 78, 79, 80, 85, 86, 88, 89, 93, 97, 99}\n",
            "{('065', True), ('093', True), ('061', True), ('018', True), ('071', True), ('037', False), ('094', True), ('026', False), ('053', True), ('052', True), ('027', False), ('032', True), ('015', True), ('068', True), ('092', True), ('090', True), ('010', True), ('062', True), ('022', True), ('057', True), ('064', False), ('040', True), ('016', True), ('073', True), ('056', True), ('070', False), ('050', True), ('012', True), ('072', True), ('063', True), ('075', True), ('047', True), ('055', True), ('097', True), ('028', True), ('006', True), ('035', True), ('005', True), ('095', True), ('033', True), ('001', True), ('042', True), ('045', True), ('004', False), ('043', True), ('086', True), ('083', True), ('046', True), ('074', True), ('099', False), ('011', True), ('078', True), ('079', False), ('034', True), ('036', True), ('009', False), ('077', True), ('030', True), ('017', True), ('096', True), ('051', True), ('003', True), ('084', True), ('100', True), ('058', True), ('085', False), ('069', True), ('013', True), ('049', True), ('008', False), ('031', True), ('025', True), ('081', True), ('019', True), ('023', True), ('021', True), ('076', True), ('059', True), ('020', False), ('007', True), ('044', False), ('039', False), ('082', True), ('029', True), ('060', False), ('066', True), ('088', True), ('087', True), ('024', True), ('048', True), ('091', True), ('067', True), ('080', True), ('014', True), ('002', True), ('041', True), ('038', False), ('089', False), ('054', True), ('098', True)}\n",
            "{3, 4, 7, 8, 14, 15, 19, 21, 23, 26, 31, 32, 33, 34, 36, 37, 40, 41, 42, 44, 45, 49, 53, 54, 58, 60, 62, 65, 67, 69, 71, 72, 74, 75, 79, 80, 81, 84, 85, 86, 87, 89, 91, 92, 93, 95, 96, 100}\n",
            "{1, 3, 5, 10, 12, 13, 15, 16, 20, 21, 24, 25, 27, 28, 29, 31, 32, 37, 38, 39, 40, 41, 44, 46, 48, 49, 52, 57, 60, 62, 65, 66, 68, 72, 80, 81, 85, 86, 89, 92, 93, 94, 95, 97, 100}\n",
            "{2, 3, 5, 6, 9, 11, 12, 14, 19, 20, 23, 26, 27, 29, 33, 35, 36, 37, 38, 40, 43, 44, 45, 48, 49, 50, 52, 56, 57, 60, 61, 63, 64, 66, 70, 76, 78, 80, 83, 85, 87, 91, 92, 94, 95, 98, 99, 100}\n",
            "Tempo de execução 21.343721628189087\n"
          ],
          "name": "stdout"
        }
      ]
    },
    {
      "cell_type": "code",
      "metadata": {
        "colab": {
          "base_uri": "https://localhost:8080/"
        },
        "id": "9mgTbdbpDiua",
        "outputId": "4f9c7bb6-25fc-4655-af26-86e64b33f1a6"
      },
      "source": [
        "max(plotar)/min(plotar) #gap"
      ],
      "execution_count": 133,
      "outputs": [
        {
          "output_type": "execute_result",
          "data": {
            "text/plain": [
              "1.1894484412470023"
            ]
          },
          "metadata": {
            "tags": []
          },
          "execution_count": 133
        }
      ]
    },
    {
      "cell_type": "code",
      "metadata": {
        "colab": {
          "base_uri": "https://localhost:8080/"
        },
        "id": "j5Cs5AwnRWDg",
        "outputId": "46b301c1-c751-44dd-dde2-5d978ed04b59"
      },
      "source": [
        "sum(plotar)/len(plotar) #média"
      ],
      "execution_count": 170,
      "outputs": [
        {
          "output_type": "execute_result",
          "data": {
            "text/plain": [
              "273.33772163711507"
            ]
          },
          "metadata": {
            "tags": []
          },
          "execution_count": 170
        }
      ]
    },
    {
      "cell_type": "code",
      "metadata": {
        "colab": {
          "base_uri": "https://localhost:8080/"
        },
        "id": "nUvuVXAr59R4",
        "outputId": "cb49d84e-5bd4-4878-945e-590a62d72154"
      },
      "source": [
        "plotar[0] #inicio"
      ],
      "execution_count": 181,
      "outputs": [
        {
          "output_type": "execute_result",
          "data": {
            "text/plain": [
              "1322"
            ]
          },
          "metadata": {
            "tags": []
          },
          "execution_count": 181
        }
      ]
    },
    {
      "cell_type": "code",
      "metadata": {
        "colab": {
          "base_uri": "https://localhost:8080/"
        },
        "id": "bpDH5e6LXNNi",
        "outputId": "62817ca3-574d-4824-c67e-ebc7625e89a2"
      },
      "source": [
        "min(plotar) #mínimo"
      ],
      "execution_count": 171,
      "outputs": [
        {
          "output_type": "execute_result",
          "data": {
            "text/plain": [
              "247"
            ]
          },
          "metadata": {
            "tags": []
          },
          "execution_count": 171
        }
      ]
    },
    {
      "cell_type": "code",
      "metadata": {
        "colab": {
          "base_uri": "https://localhost:8080/"
        },
        "id": "Amvw3ykPW4YC",
        "outputId": "3b11fd72-993c-4a99-f1fb-a8b7b4a71fa4"
      },
      "source": [
        "max(plotar) #max"
      ],
      "execution_count": 182,
      "outputs": [
        {
          "output_type": "execute_result",
          "data": {
            "text/plain": [
              "1475"
            ]
          },
          "metadata": {
            "tags": []
          },
          "execution_count": 182
        }
      ]
    },
    {
      "cell_type": "code",
      "metadata": {
        "id": "P75V7g0sDgUM",
        "colab": {
          "base_uri": "https://localhost:8080/"
        },
        "outputId": "010aefa7-653e-42b6-c439-c340da3b6b4c"
      },
      "source": [
        "496/500"
      ],
      "execution_count": 132,
      "outputs": [
        {
          "output_type": "execute_result",
          "data": {
            "text/plain": [
              "0.992"
            ]
          },
          "metadata": {
            "tags": []
          },
          "execution_count": 132
        }
      ]
    },
    {
      "cell_type": "code",
      "metadata": {
        "id": "oPK3UUNdVf0C"
      },
      "source": [
        "meta=plotar_star"
      ],
      "execution_count": 208,
      "outputs": []
    },
    {
      "cell_type": "code",
      "metadata": {
        "id": "t5aRc29CXyIh"
      },
      "source": [
        "heur=plotar_star"
      ],
      "execution_count": 211,
      "outputs": []
    },
    {
      "cell_type": "code",
      "metadata": {
        "id": "KhSDrm_qX2Op"
      },
      "source": [
        "x = np.linspace(0, 2, num=100)"
      ],
      "execution_count": 212,
      "outputs": []
    },
    {
      "cell_type": "code",
      "metadata": {
        "colab": {
          "base_uri": "https://localhost:8080/",
          "height": 298
        },
        "id": "nzQ9MNNbYBRP",
        "outputId": "12ad8c8f-b932-4067-f0d9-8317f6f619a9"
      },
      "source": [
        "plt.plot(heur, label='heurística', linewidth=3)\n",
        "plt.plot(meta, label='meta-heuríticaa', linewidth=3)\n",
        "plt.title(\"F(s*)\")\n",
        "plt.legend()\n"
      ],
      "execution_count": 221,
      "outputs": [
        {
          "output_type": "execute_result",
          "data": {
            "text/plain": [
              "<matplotlib.legend.Legend at 0x7f56d9770dd0>"
            ]
          },
          "metadata": {
            "tags": []
          },
          "execution_count": 221
        },
        {
          "output_type": "display_data",
          "data": {
            "image/png": "[encoded data removed]",
            "text/plain": [
              "<Figure size 432x288 with 1 Axes>"
            ]
          },
          "metadata": {
            "tags": [],
            "needs_background": "light"
          }
        }
      ]
    },
    {
      "cell_type": "code",
      "metadata": {
        "colab": {
          "base_uri": "https://localhost:8080/",
          "height": 295
        },
        "id": "D1EZGf-bYkPU",
        "outputId": "6554df69-f685-4953-9075-b385d97f3ec6"
      },
      "source": [
        "fig, ax = plt.subplots()\n",
        "ax.set(xlabel='iteração', ylabel='MAX_SAT',\n",
        "       title='alfa=0.7')\n",
        "ax.plot(plotar_star)\n",
        "ax.grid()"
      ],
      "execution_count": 210,
      "outputs": [
        {
          "output_type": "display_data",
          "data": {
            "image/png": "[encoded data removed]",
            "text/plain": [
              "<Figure size 432x288 with 1 Axes>"
            ]
          },
          "metadata": {
            "tags": [],
            "needs_background": "light"
          }
        }
      ]
    },
    {
      "cell_type": "code",
      "metadata": {
        "id": "dooMM1PBe_DD",
        "colab": {
          "base_uri": "https://localhost:8080/",
          "height": 295
        },
        "outputId": "91e7f19a-d1b1-4775-df92-5b1cfd967f30"
      },
      "source": [
        "fig, ax = plt.subplots()\n",
        "ax.set(xlabel='iteração', ylabel='MAX_SAT',\n",
        "       title='alfa=0.7')\n",
        "ax.plot(plotar)\n",
        "ax.grid()"
      ],
      "execution_count": 185,
      "outputs": [
        {
          "output_type": "display_data",
          "data": {
            "image/png": "[encoded data removed]",
            "text/plain": [
              "<Figure size 432x288 with 1 Axes>"
            ]
          },
          "metadata": {
            "tags": [],
            "needs_background": "light"
          }
        }
      ]
    },
    {
      "cell_type": "code",
      "metadata": {
        "id": "MCSTDbNIrQLx",
        "colab": {
          "base_uri": "https://localhost:8080/",
          "height": 295
        },
        "outputId": "61374de3-9754-404c-f21d-134f1d9c2953"
      },
      "source": [
        "fig, ax = plt.subplots()\n",
        "ax.set(xlabel='iteração', ylabel='MAX_SAT',\n",
        "       title='alfa=0.7')\n",
        "ax.plot(plotar[0:100])\n",
        "ax.grid()"
      ],
      "execution_count": 186,
      "outputs": [
        {
          "output_type": "display_data",
          "data": {
            "image/png": "[encoded data removed]",
            "text/plain": [
              "<Figure size 432x288 with 1 Axes>"
            ]
          },
          "metadata": {
            "tags": [],
            "needs_background": "light"
          }
        }
      ]
    },
    {
      "cell_type": "code",
      "metadata": {
        "id": "faacCokYI2zV"
      },
      "source": [
        "plotar1=plotar_star"
      ],
      "execution_count": 198,
      "outputs": []
    },
    {
      "cell_type": "code",
      "metadata": {
        "id": "vuCYYKX1JPxv"
      },
      "source": [
        "plotar2=plotar_star"
      ],
      "execution_count": 196,
      "outputs": []
    },
    {
      "cell_type": "code",
      "metadata": {
        "id": "n9nD1qiYJUAv"
      },
      "source": [
        "plotar3=plotar_star"
      ],
      "execution_count": 193,
      "outputs": []
    },
    {
      "cell_type": "code",
      "metadata": {
        "colab": {
          "base_uri": "https://localhost:8080/",
          "height": 587
        },
        "id": "IhGVJ4hyJ6wB",
        "outputId": "17ce546a-c4c1-4b91-9786-759bf1571c6b"
      },
      "source": [
        "fig, ax = plt.subplots(3,figsize=(8,8))\n",
        "ax[0].set_title('Alfa = 0.7')\n",
        "ax[1].set_title('Alfa = 0.8')\n",
        "ax[2].set_title('Alfa = 0.9')\n",
        "\n",
        "ax[0].plot(plotar1)\n",
        "ax[1].plot(plotar2)\n",
        "ax[2].plot(plotar3)\n",
        "\n",
        "\n",
        "for axs in ax.flat:\n",
        "    axs.set(xlabel='iteração', ylabel='Max-Sat')\n",
        "fig.tight_layout(pad=1.0)"
      ],
      "execution_count": 199,
      "outputs": [
        {
          "output_type": "display_data",
          "data": {
            "image/png": "[encoded data removed]",
            "text/plain": [
              "<Figure size 576x576 with 3 Axes>"
            ]
          },
          "metadata": {
            "tags": [],
            "needs_background": "light"
          }
        }
      ]
    },
    {
      "cell_type": "code",
      "metadata": {
        "colab": {
          "base_uri": "https://localhost:8080/",
          "height": 180
        },
        "id": "dOmZmIAKJOGi",
        "outputId": "e23a77c2-284d-4da0-d36b-c80ac8018e52"
      },
      "source": [
        "ax[0].plot(plotar)\n",
        "ax[1].plot(plotar)"
      ],
      "execution_count": null,
      "outputs": [
        {
          "output_type": "error",
          "ename": "NameError",
          "evalue": "ignored",
          "traceback": [
            "\u001b[0;31m---------------------------------------------------------------------------\u001b[0m",
            "\u001b[0;31mNameError\u001b[0m                                 Traceback (most recent call last)",
            "\u001b[0;32m<ipython-input-87-4346e3be3db3>\u001b[0m in \u001b[0;36m<module>\u001b[0;34m()\u001b[0m\n\u001b[0;32m----> 1\u001b[0;31m \u001b[0max\u001b[0m\u001b[0;34m[\u001b[0m\u001b[0;36m0\u001b[0m\u001b[0;34m]\u001b[0m\u001b[0;34m.\u001b[0m\u001b[0mplot\u001b[0m\u001b[0;34m(\u001b[0m\u001b[0mplotar\u001b[0m\u001b[0;34m)\u001b[0m\u001b[0;34m\u001b[0m\u001b[0;34m\u001b[0m\u001b[0m\n\u001b[0m\u001b[1;32m      2\u001b[0m \u001b[0max\u001b[0m\u001b[0;34m[\u001b[0m\u001b[0;36m1\u001b[0m\u001b[0;34m]\u001b[0m\u001b[0;34m.\u001b[0m\u001b[0mplot\u001b[0m\u001b[0;34m(\u001b[0m\u001b[0mplotar\u001b[0m\u001b[0;34m)\u001b[0m\u001b[0;34m\u001b[0m\u001b[0;34m\u001b[0m\u001b[0m\n",
            "\u001b[0;31mNameError\u001b[0m: name 'plotar' is not defined"
          ]
        }
      ]
    },
    {
      "cell_type": "code",
      "metadata": {
        "colab": {
          "base_uri": "https://localhost:8080/",
          "height": 294
        },
        "id": "rImrcZywe0J1",
        "outputId": "47f6b8c4-ca60-4dc2-d2d1-2bc81765b6e8"
      },
      "source": [
        "fig, ax = plt.subplots()\n",
        "ax.set(xlabel='iteração', ylabel='MAX_SAT',\n",
        "       title='alfa=0.6')\n",
        "ax.plot(plotar)\n",
        "ax.grid()"
      ],
      "execution_count": null,
      "outputs": [
        {
          "output_type": "display_data",
          "data": {
            "image/png": "[encoded data removed]",
            "text/plain": [
              "<Figure size 432x288 with 1 Axes>"
            ]
          },
          "metadata": {
            "tags": [],
            "needs_background": "light"
          }
        }
      ]
    },
    {
      "cell_type": "code",
      "metadata": {
        "colab": {
          "base_uri": "https://localhost:8080/",
          "height": 294
        },
        "id": "lZPMjbgAfMan",
        "outputId": "ab035d38-72fd-4946-845e-458cd08c80c7"
      },
      "source": [
        "fig, ax = plt.subplots()\n",
        "ax.set(xlabel='iteração', ylabel='MAX_SAT',\n",
        "       title='alfa=0.7')\n",
        "ax.plot(plotar)\n",
        "ax.grid()"
      ],
      "execution_count": null,
      "outputs": [
        {
          "output_type": "display_data",
          "data": {
            "image/png": "[encoded data removed]",
            "text/plain": [
              "<Figure size 432x288 with 1 Axes>"
            ]
          },
          "metadata": {
            "tags": [],
            "needs_background": "light"
          }
        }
      ]
    },
    {
      "cell_type": "code",
      "metadata": {
        "id": "2f3DjVLxEO41"
      },
      "source": [
        "resultado = [bool(disj.intersection(foi)) for disj in ex].count(True)"
      ],
      "execution_count": null,
      "outputs": []
    },
    {
      "cell_type": "code",
      "metadata": {
        "id": "wK8l9Yhd8c4J"
      },
      "source": [
        "foi = list(foi)\n",
        "foi[r]=(foi[r][0],bool(foi[r][1]-True))"
      ],
      "execution_count": null,
      "outputs": []
    },
    {
      "cell_type": "code",
      "metadata": {
        "colab": {
          "base_uri": "https://localhost:8080/"
        },
        "id": "dXpE2tUDBrYR",
        "outputId": "a981b469-5b87-44f8-bce8-567a10d8f922"
      },
      "source": [
        "foi[r]"
      ],
      "execution_count": null,
      "outputs": [
        {
          "output_type": "execute_result",
          "data": {
            "text/plain": [
              "('093', True)"
            ]
          },
          "metadata": {
            "tags": []
          },
          "execution_count": 26
        }
      ]
    },
    {
      "cell_type": "code",
      "metadata": {
        "colab": {
          "base_uri": "https://localhost:8080/"
        },
        "id": "pN86xM7jCIQI",
        "outputId": "dbaa5115-eef5-48dd-a098-db6e2ff10713"
      },
      "source": [
        "t"
      ],
      "execution_count": null,
      "outputs": [
        {
          "output_type": "execute_result",
          "data": {
            "text/plain": [
              "39"
            ]
          },
          "metadata": {
            "tags": []
          },
          "execution_count": 122
        }
      ]
    },
    {
      "cell_type": "code",
      "metadata": {
        "id": "xyrFUhGhBVuq"
      },
      "source": [
        ""
      ],
      "execution_count": null,
      "outputs": []
    },
    {
      "cell_type": "code",
      "metadata": {
        "id": "YA7ZPTbhBXmt"
      },
      "source": [
        "r ,t = random.randint(1, 100) ,random.randint(1, 100)"
      ],
      "execution_count": null,
      "outputs": []
    },
    {
      "cell_type": "code",
      "metadata": {
        "id": "QwEaTyLOPhKq"
      },
      "source": [
        "verd = [True for i in range(len(candidato))]\n",
        "falso = [False for i in range(len(rest))]"
      ],
      "execution_count": null,
      "outputs": []
    },
    {
      "cell_type": "code",
      "metadata": {
        "id": "dwUubjP-5KKs",
        "colab": {
          "base_uri": "https://localhost:8080/",
          "height": 296
        },
        "outputId": "ae3aaf37-5995-42db-c95c-e55bbb6ae99a"
      },
      "source": [
        "import pandas as pd\n",
        "df = pd.DataFrame({'lab':['SAT1', 'SAT2', 'SA3', \"SAT4\",\"NM1\",\"NM2\",\"NM3\",'NM4'], 'segundos':[4.230, 7.422, 21.861,8.7810,3.484,6.819, 14.524, 4.545]})\n",
        "df.plot.bar(x='lab', y='segundos', rot=0)\n",
        "#plot.title(\"Performance\")"
      ],
      "execution_count": 183,
      "outputs": [
        {
          "output_type": "execute_result",
          "data": {
            "text/plain": [
              "<matplotlib.axes._subplots.AxesSubplot at 0x7f56da315d50>"
            ]
          },
          "metadata": {
            "tags": []
          },
          "execution_count": 183
        },
        {
          "output_type": "display_data",
          "data": {
            "image/png": "[encoded data removed]",
            "text/plain": [
              "<Figure size 432x288 with 1 Axes>"
            ]
          },
          "metadata": {
            "tags": [],
            "needs_background": "light"
          }
        }
      ]
    },
    {
      "cell_type": "code",
      "metadata": {
        "colab": {
          "base_uri": "https://localhost:8080/",
          "height": 278
        },
        "id": "Nm8aopZxcHil",
        "outputId": "23fcdb87-4270-4702-a1e0-57a44debbcca"
      },
      "source": [
        "import pandas as pd\n",
        "df = pd.DataFrame({'lab':[\"SAT4\",\"NM1\",\"NM2\",\"NM3\",'NM4'], 'tempo':[0.878 ,0.869,0.869, 0.876,0.883]})\n",
        "ax = df.plot.bar(x='lab', y='tempo', rot=0)"
      ],
      "execution_count": null,
      "outputs": [
        {
          "output_type": "display_data",
          "data": {
            "image/png": "[encoded data removed]",
            "text/plain": [
              "<Figure size 432x288 with 1 Axes>"
            ]
          },
          "metadata": {
            "tags": [],
            "needs_background": "light"
          }
        }
      ]
    },
    {
      "cell_type": "code",
      "metadata": {
        "id": "dxapcMG_ggGq"
      },
      "source": [
        "valores_produto_A = [600,230,460,1000,300]\n",
        "\n",
        "# Quantidade de vendas para o Produto B\n",
        "valores_produto_B =[592,228,454,989,295]\n",
        "\n",
        "# Cria eixo x para produto A e produto B com uma separação de 0.25 entre as barras\n",
        "x1 =  np.arange(len(valores_produto_A))\n",
        "x2 = [x + 0.25 for x in x1]\n"
      ],
      "execution_count": 202,
      "outputs": []
    },
    {
      "cell_type": "code",
      "metadata": {
        "id": "KrAamA5aiEbm"
      },
      "source": [
        "média"
      ],
      "execution_count": null,
      "outputs": []
    },
    {
      "cell_type": "code",
      "metadata": {
        "colab": {
          "base_uri": "https://localhost:8080/",
          "height": 281
        },
        "id": "mHLhsHTyhmY-",
        "outputId": "3dcd132d-4ccc-48d7-9edd-72e435b5de3d"
      },
      "source": [
        "plt.bar(x1, valores_produto_A, width=0.25, label ='Nº de cláusulas', color = 'b')\n",
        "plt.bar(x2, valores_produto_B, width=0.25, label = \"Média dos resultados\", color = 'y')\n",
        "\n",
        "# coloca o nome dos meses como label do eixo x\n",
        "meses = [\"SAT4\",\"NM1\",\"NM2\",\"NM3\",'NM4']\n",
        "plt.xticks([x + 0.25 for x in range(len(valores_produto_A))], meses)\n",
        "\n",
        "# inseri uma legenda no gráfico\n",
        "plt.legend()\n",
        "\n",
        "plt.title(\"Performance\")\n",
        "plt.show()"
      ],
      "execution_count": 203,
      "outputs": [
        {
          "output_type": "display_data",
          "data": {
            "image/png": "[encoded data removed]",
            "text/plain": [
              "<Figure size 432x288 with 1 Axes>"
            ]
          },
          "metadata": {
            "tags": [],
            "needs_background": "light"
          }
        }
      ]
    },
    {
      "cell_type": "code",
      "metadata": {
        "id": "01ucTYNKlFrK"
      },
      "source": [
        "#Esta função vai receber a expressão cnf retornar a interseção, contando o numero de True.\n",
        "def SAT (cnf):\n",
        "    literals = set()\n",
        "    for conj in cnf:\n",
        "        for disj in conj:\n",
        "            literals.add(int(disj[0]))\n",
        "    literals = list(literals)\n",
        "    n = len(literals)\n",
        "    print(n)\n",
        "    b=[]\n",
        "    for i in X:\n",
        "        b.append(bool(int(i)))\n",
        "    string=[]\n",
        "    for trans in literals:\n",
        "        string.append(str(trans).rjust(3, '0'))\n",
        "    go = set(zip(string,b)) \n",
        "    print(go)\n",
        "    resultado = [bool(disj.intersection(go)) for disj in ex].count(True)\n",
        "    for seq in itertools.product([False,True], repeat=n):\n",
        "        zeros = set(zip(string, seq))\n",
        "        break\n",
        "    resultado1 = [bool(disj.intersection(zeros)) for disj in ex].count(True)\n",
        "    return resultado1, resultado"
      ],
      "execution_count": null,
      "outputs": []
    },
    {
      "cell_type": "code",
      "metadata": {
        "colab": {
          "base_uri": "https://localhost:8080/",
          "height": 193
        },
        "id": "Ga4zhLFjBjv0",
        "outputId": "46dc3fbf-ed21-40f3-fd47-cc674bc0c412"
      },
      "source": [
        "print(\"ordem: (F(0),F(X))\")\n",
        "print(\"instancia 1:\",a,\"instancia 2:\",b,\"instancia 3:\",c)"
      ],
      "execution_count": null,
      "outputs": [
        {
          "output_type": "stream",
          "text": [
            "ordem: (F(0),F(X))\n"
          ],
          "name": "stdout"
        },
        {
          "output_type": "error",
          "ename": "NameError",
          "evalue": "ignored",
          "traceback": [
            "\u001b[0;31m---------------------------------------------------------------------------\u001b[0m",
            "\u001b[0;31mNameError\u001b[0m                                 Traceback (most recent call last)",
            "\u001b[0;32m<ipython-input-50-e423491fb12c>\u001b[0m in \u001b[0;36m<module>\u001b[0;34m()\u001b[0m\n\u001b[1;32m      1\u001b[0m \u001b[0mprint\u001b[0m\u001b[0;34m(\u001b[0m\u001b[0;34m\"ordem: (F(0),F(X))\"\u001b[0m\u001b[0;34m)\u001b[0m\u001b[0;34m\u001b[0m\u001b[0;34m\u001b[0m\u001b[0m\n\u001b[0;32m----> 2\u001b[0;31m \u001b[0mprint\u001b[0m\u001b[0;34m(\u001b[0m\u001b[0;34m\"instancia 1:\"\u001b[0m\u001b[0;34m,\u001b[0m\u001b[0ma\u001b[0m\u001b[0;34m,\u001b[0m\u001b[0;34m\"instancia 2:\"\u001b[0m\u001b[0;34m,\u001b[0m\u001b[0mb\u001b[0m\u001b[0;34m,\u001b[0m\u001b[0;34m\"instancia 3:\"\u001b[0m\u001b[0;34m,\u001b[0m\u001b[0mc\u001b[0m\u001b[0;34m)\u001b[0m\u001b[0;34m\u001b[0m\u001b[0;34m\u001b[0m\u001b[0m\n\u001b[0m",
            "\u001b[0;31mNameError\u001b[0m: name 'a' is not defined"
          ]
        }
      ]
    },
    {
      "cell_type": "markdown",
      "metadata": {
        "id": "rsz5RELl-ziV"
      },
      "source": [
        "![PSEUDOCODIGO.PNG](data:image/png;base64,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)"
      ]
    }
  ]
}